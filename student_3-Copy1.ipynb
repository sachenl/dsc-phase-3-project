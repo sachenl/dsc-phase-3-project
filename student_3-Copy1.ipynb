{
 "cells": [
  {
   "cell_type": "markdown",
   "id": "a127bf0b",
   "metadata": {},
   "source": [
    "## Final Project 3 Submission\n",
    "\n",
    "Please fill out:\n",
    "* Student name: Zhiqiang Sun\n",
    "* Student pace: self paced\n",
    "* Scheduled project review date/time: \n",
    "* Instructor name: \n",
    "* Blog post URL:\n"
   ]
  },
  {
   "cell_type": "markdown",
   "id": "684b22ba",
   "metadata": {},
   "source": [
    "# Business problem\n",
    "\n",
    "Build a classifier to predict whether a customer will (\"soon\") stop doing business with SyriaTel, a telecommunications company. Note that this is a binary classification problem.\n",
    "\n",
    "Most naturally, your audience here would be the telecom business itself, interested in losing money on customers who don't stick around very long. Are there any predictable patterns here?\n",
    "\n",
    "\n"
   ]
  },
  {
   "cell_type": "markdown",
   "id": "2792bfba",
   "metadata": {},
   "source": [
    "# Plan\n",
    "Since the SyriaTel Customer Churn is a binary classification problem problem, I will try to use several different algorithms to fit the data and select one of the best one. The algorithms I will try include Logistic Regression, k-Nearest Neighbors, Decision Trees, Random Forest, Support Vector Machine. \n",
    "The target of the data we need to fit is the column 'churn'.\n",
    "The features of the data is the other columns in dataframe. \n",
    "However, when I load the data file into dataframe, i found some of the columns are linear correlated with each other. I need to drop one of them. We need to polish the data first. "
   ]
  },
  {
   "cell_type": "code",
   "execution_count": 2,
   "id": "e1fc255a",
   "metadata": {},
   "outputs": [],
   "source": [
    "#import all the necessary library\n",
    "import pandas as pd\n",
    "import numpy as np\n",
    "import seaborn as sns\n",
    "import matplotlib.pyplot as plt\n",
    "from sklearn.preprocessing import StandardScaler\n",
    "from sklearn.model_selection import train_test_split, cross_val_score, GridSearchCV\n",
    "from sklearn.linear_model import LogisticRegression\n",
    "from sklearn.neighbors import KNeighborsClassifier\n",
    "from sklearn.tree import DecisionTreeClassifier\n",
    "from sklearn.ensemble import RandomForestClassifier\n",
    "from sklearn.svm import SVC\n",
    "from sklearn.metrics import confusion_matrix\n",
    "from sklearn.metrics import  accuracy_score, f1_score, recall_score, precision_score\n",
    "import warnings\n",
    "warnings.filterwarnings('ignore')\n",
    "from sklearn.metrics import roc_auc_score, roc_curve, auc\n",
    "from imblearn.over_sampling import SMOTE"
   ]
  },
  {
   "cell_type": "code",
   "execution_count": 3,
   "id": "6df954cd",
   "metadata": {
    "scrolled": false
   },
   "outputs": [
    {
     "data": {
      "text/html": [
       "<div>\n",
       "<style scoped>\n",
       "    .dataframe tbody tr th:only-of-type {\n",
       "        vertical-align: middle;\n",
       "    }\n",
       "\n",
       "    .dataframe tbody tr th {\n",
       "        vertical-align: top;\n",
       "    }\n",
       "\n",
       "    .dataframe thead th {\n",
       "        text-align: right;\n",
       "    }\n",
       "</style>\n",
       "<table border=\"1\" class=\"dataframe\">\n",
       "  <thead>\n",
       "    <tr style=\"text-align: right;\">\n",
       "      <th></th>\n",
       "      <th>state</th>\n",
       "      <th>account length</th>\n",
       "      <th>area code</th>\n",
       "      <th>phone number</th>\n",
       "      <th>international plan</th>\n",
       "      <th>voice mail plan</th>\n",
       "      <th>number vmail messages</th>\n",
       "      <th>total day minutes</th>\n",
       "      <th>total day calls</th>\n",
       "      <th>total day charge</th>\n",
       "      <th>...</th>\n",
       "      <th>total eve calls</th>\n",
       "      <th>total eve charge</th>\n",
       "      <th>total night minutes</th>\n",
       "      <th>total night calls</th>\n",
       "      <th>total night charge</th>\n",
       "      <th>total intl minutes</th>\n",
       "      <th>total intl calls</th>\n",
       "      <th>total intl charge</th>\n",
       "      <th>customer service calls</th>\n",
       "      <th>churn</th>\n",
       "    </tr>\n",
       "  </thead>\n",
       "  <tbody>\n",
       "    <tr>\n",
       "      <th>0</th>\n",
       "      <td>KS</td>\n",
       "      <td>128</td>\n",
       "      <td>415</td>\n",
       "      <td>382-4657</td>\n",
       "      <td>no</td>\n",
       "      <td>yes</td>\n",
       "      <td>25</td>\n",
       "      <td>265.1</td>\n",
       "      <td>110</td>\n",
       "      <td>45.07</td>\n",
       "      <td>...</td>\n",
       "      <td>99</td>\n",
       "      <td>16.78</td>\n",
       "      <td>244.7</td>\n",
       "      <td>91</td>\n",
       "      <td>11.01</td>\n",
       "      <td>10.0</td>\n",
       "      <td>3</td>\n",
       "      <td>2.70</td>\n",
       "      <td>1</td>\n",
       "      <td>False</td>\n",
       "    </tr>\n",
       "    <tr>\n",
       "      <th>1</th>\n",
       "      <td>OH</td>\n",
       "      <td>107</td>\n",
       "      <td>415</td>\n",
       "      <td>371-7191</td>\n",
       "      <td>no</td>\n",
       "      <td>yes</td>\n",
       "      <td>26</td>\n",
       "      <td>161.6</td>\n",
       "      <td>123</td>\n",
       "      <td>27.47</td>\n",
       "      <td>...</td>\n",
       "      <td>103</td>\n",
       "      <td>16.62</td>\n",
       "      <td>254.4</td>\n",
       "      <td>103</td>\n",
       "      <td>11.45</td>\n",
       "      <td>13.7</td>\n",
       "      <td>3</td>\n",
       "      <td>3.70</td>\n",
       "      <td>1</td>\n",
       "      <td>False</td>\n",
       "    </tr>\n",
       "    <tr>\n",
       "      <th>2</th>\n",
       "      <td>NJ</td>\n",
       "      <td>137</td>\n",
       "      <td>415</td>\n",
       "      <td>358-1921</td>\n",
       "      <td>no</td>\n",
       "      <td>no</td>\n",
       "      <td>0</td>\n",
       "      <td>243.4</td>\n",
       "      <td>114</td>\n",
       "      <td>41.38</td>\n",
       "      <td>...</td>\n",
       "      <td>110</td>\n",
       "      <td>10.30</td>\n",
       "      <td>162.6</td>\n",
       "      <td>104</td>\n",
       "      <td>7.32</td>\n",
       "      <td>12.2</td>\n",
       "      <td>5</td>\n",
       "      <td>3.29</td>\n",
       "      <td>0</td>\n",
       "      <td>False</td>\n",
       "    </tr>\n",
       "    <tr>\n",
       "      <th>3</th>\n",
       "      <td>OH</td>\n",
       "      <td>84</td>\n",
       "      <td>408</td>\n",
       "      <td>375-9999</td>\n",
       "      <td>yes</td>\n",
       "      <td>no</td>\n",
       "      <td>0</td>\n",
       "      <td>299.4</td>\n",
       "      <td>71</td>\n",
       "      <td>50.90</td>\n",
       "      <td>...</td>\n",
       "      <td>88</td>\n",
       "      <td>5.26</td>\n",
       "      <td>196.9</td>\n",
       "      <td>89</td>\n",
       "      <td>8.86</td>\n",
       "      <td>6.6</td>\n",
       "      <td>7</td>\n",
       "      <td>1.78</td>\n",
       "      <td>2</td>\n",
       "      <td>False</td>\n",
       "    </tr>\n",
       "    <tr>\n",
       "      <th>4</th>\n",
       "      <td>OK</td>\n",
       "      <td>75</td>\n",
       "      <td>415</td>\n",
       "      <td>330-6626</td>\n",
       "      <td>yes</td>\n",
       "      <td>no</td>\n",
       "      <td>0</td>\n",
       "      <td>166.7</td>\n",
       "      <td>113</td>\n",
       "      <td>28.34</td>\n",
       "      <td>...</td>\n",
       "      <td>122</td>\n",
       "      <td>12.61</td>\n",
       "      <td>186.9</td>\n",
       "      <td>121</td>\n",
       "      <td>8.41</td>\n",
       "      <td>10.1</td>\n",
       "      <td>3</td>\n",
       "      <td>2.73</td>\n",
       "      <td>3</td>\n",
       "      <td>False</td>\n",
       "    </tr>\n",
       "  </tbody>\n",
       "</table>\n",
       "<p>5 rows × 21 columns</p>\n",
       "</div>"
      ],
      "text/plain": [
       "  state  account length  area code phone number international plan  \\\n",
       "0    KS             128        415     382-4657                 no   \n",
       "1    OH             107        415     371-7191                 no   \n",
       "2    NJ             137        415     358-1921                 no   \n",
       "3    OH              84        408     375-9999                yes   \n",
       "4    OK              75        415     330-6626                yes   \n",
       "\n",
       "  voice mail plan  number vmail messages  total day minutes  total day calls  \\\n",
       "0             yes                     25              265.1              110   \n",
       "1             yes                     26              161.6              123   \n",
       "2              no                      0              243.4              114   \n",
       "3              no                      0              299.4               71   \n",
       "4              no                      0              166.7              113   \n",
       "\n",
       "   total day charge  ...  total eve calls  total eve charge  \\\n",
       "0             45.07  ...               99             16.78   \n",
       "1             27.47  ...              103             16.62   \n",
       "2             41.38  ...              110             10.30   \n",
       "3             50.90  ...               88              5.26   \n",
       "4             28.34  ...              122             12.61   \n",
       "\n",
       "   total night minutes  total night calls  total night charge  \\\n",
       "0                244.7                 91               11.01   \n",
       "1                254.4                103               11.45   \n",
       "2                162.6                104                7.32   \n",
       "3                196.9                 89                8.86   \n",
       "4                186.9                121                8.41   \n",
       "\n",
       "   total intl minutes  total intl calls  total intl charge  \\\n",
       "0                10.0                 3               2.70   \n",
       "1                13.7                 3               3.70   \n",
       "2                12.2                 5               3.29   \n",
       "3                 6.6                 7               1.78   \n",
       "4                10.1                 3               2.73   \n",
       "\n",
       "   customer service calls  churn  \n",
       "0                       1  False  \n",
       "1                       1  False  \n",
       "2                       0  False  \n",
       "3                       2  False  \n",
       "4                       3  False  \n",
       "\n",
       "[5 rows x 21 columns]"
      ]
     },
     "execution_count": 3,
     "metadata": {},
     "output_type": "execute_result"
    }
   ],
   "source": [
    "df = pd.read_csv('bigml.csv')\n",
    "df.head()"
   ]
  },
  {
   "cell_type": "code",
   "execution_count": 4,
   "id": "de01d890",
   "metadata": {
    "scrolled": false
   },
   "outputs": [
    {
     "name": "stdout",
     "output_type": "stream",
     "text": [
      "<class 'pandas.core.frame.DataFrame'>\n",
      "RangeIndex: 3333 entries, 0 to 3332\n",
      "Data columns (total 21 columns):\n",
      " #   Column                  Non-Null Count  Dtype  \n",
      "---  ------                  --------------  -----  \n",
      " 0   state                   3333 non-null   object \n",
      " 1   account length          3333 non-null   int64  \n",
      " 2   area code               3333 non-null   int64  \n",
      " 3   phone number            3333 non-null   object \n",
      " 4   international plan      3333 non-null   object \n",
      " 5   voice mail plan         3333 non-null   object \n",
      " 6   number vmail messages   3333 non-null   int64  \n",
      " 7   total day minutes       3333 non-null   float64\n",
      " 8   total day calls         3333 non-null   int64  \n",
      " 9   total day charge        3333 non-null   float64\n",
      " 10  total eve minutes       3333 non-null   float64\n",
      " 11  total eve calls         3333 non-null   int64  \n",
      " 12  total eve charge        3333 non-null   float64\n",
      " 13  total night minutes     3333 non-null   float64\n",
      " 14  total night calls       3333 non-null   int64  \n",
      " 15  total night charge      3333 non-null   float64\n",
      " 16  total intl minutes      3333 non-null   float64\n",
      " 17  total intl calls        3333 non-null   int64  \n",
      " 18  total intl charge       3333 non-null   float64\n",
      " 19  customer service calls  3333 non-null   int64  \n",
      " 20  churn                   3333 non-null   bool   \n",
      "dtypes: bool(1), float64(8), int64(8), object(4)\n",
      "memory usage: 524.2+ KB\n"
     ]
    }
   ],
   "source": [
    "# Check the infomation about the dataframe\n",
    "df.info()"
   ]
  },
  {
   "cell_type": "markdown",
   "id": "a83af72f",
   "metadata": {},
   "source": [
    "#### Looking at the dataframe, I need to steply polish some features and remove some of the columns: \n",
    "1. The pairs of features inclued (total night minutes and total night charges), (total day minutes and total night charges), (total night minutes and total night charges), (total intl charge and total intl minutes) are high correlated with each other. I need to remove one in each columns. \n",
    "2. All the phone numbers are unique and act as id. So it should not related to the target. I will remove this feature.\n",
    "3. The object columns will be catalized. \n"
   ]
  },
  {
   "cell_type": "code",
   "execution_count": 5,
   "id": "b7ac7af0",
   "metadata": {},
   "outputs": [
    {
     "data": {
      "text/html": [
       "<div>\n",
       "<style scoped>\n",
       "    .dataframe tbody tr th:only-of-type {\n",
       "        vertical-align: middle;\n",
       "    }\n",
       "\n",
       "    .dataframe tbody tr th {\n",
       "        vertical-align: top;\n",
       "    }\n",
       "\n",
       "    .dataframe thead th {\n",
       "        text-align: right;\n",
       "    }\n",
       "</style>\n",
       "<table border=\"1\" class=\"dataframe\">\n",
       "  <thead>\n",
       "    <tr style=\"text-align: right;\">\n",
       "      <th></th>\n",
       "      <th>account length</th>\n",
       "      <th>area code</th>\n",
       "      <th>international plan</th>\n",
       "      <th>voice mail plan</th>\n",
       "      <th>number vmail messages</th>\n",
       "      <th>total day calls</th>\n",
       "      <th>total day charge</th>\n",
       "      <th>total eve minutes</th>\n",
       "      <th>total eve calls</th>\n",
       "      <th>total eve charge</th>\n",
       "      <th>total night calls</th>\n",
       "      <th>total night charge</th>\n",
       "      <th>total intl calls</th>\n",
       "      <th>total intl charge</th>\n",
       "      <th>customer service calls</th>\n",
       "      <th>churn</th>\n",
       "    </tr>\n",
       "  </thead>\n",
       "  <tbody>\n",
       "    <tr>\n",
       "      <th>0</th>\n",
       "      <td>128</td>\n",
       "      <td>415</td>\n",
       "      <td>no</td>\n",
       "      <td>yes</td>\n",
       "      <td>25</td>\n",
       "      <td>110</td>\n",
       "      <td>45.07</td>\n",
       "      <td>197.4</td>\n",
       "      <td>99</td>\n",
       "      <td>16.78</td>\n",
       "      <td>91</td>\n",
       "      <td>11.01</td>\n",
       "      <td>3</td>\n",
       "      <td>2.70</td>\n",
       "      <td>1</td>\n",
       "      <td>False</td>\n",
       "    </tr>\n",
       "    <tr>\n",
       "      <th>1</th>\n",
       "      <td>107</td>\n",
       "      <td>415</td>\n",
       "      <td>no</td>\n",
       "      <td>yes</td>\n",
       "      <td>26</td>\n",
       "      <td>123</td>\n",
       "      <td>27.47</td>\n",
       "      <td>195.5</td>\n",
       "      <td>103</td>\n",
       "      <td>16.62</td>\n",
       "      <td>103</td>\n",
       "      <td>11.45</td>\n",
       "      <td>3</td>\n",
       "      <td>3.70</td>\n",
       "      <td>1</td>\n",
       "      <td>False</td>\n",
       "    </tr>\n",
       "    <tr>\n",
       "      <th>2</th>\n",
       "      <td>137</td>\n",
       "      <td>415</td>\n",
       "      <td>no</td>\n",
       "      <td>no</td>\n",
       "      <td>0</td>\n",
       "      <td>114</td>\n",
       "      <td>41.38</td>\n",
       "      <td>121.2</td>\n",
       "      <td>110</td>\n",
       "      <td>10.30</td>\n",
       "      <td>104</td>\n",
       "      <td>7.32</td>\n",
       "      <td>5</td>\n",
       "      <td>3.29</td>\n",
       "      <td>0</td>\n",
       "      <td>False</td>\n",
       "    </tr>\n",
       "    <tr>\n",
       "      <th>3</th>\n",
       "      <td>84</td>\n",
       "      <td>408</td>\n",
       "      <td>yes</td>\n",
       "      <td>no</td>\n",
       "      <td>0</td>\n",
       "      <td>71</td>\n",
       "      <td>50.90</td>\n",
       "      <td>61.9</td>\n",
       "      <td>88</td>\n",
       "      <td>5.26</td>\n",
       "      <td>89</td>\n",
       "      <td>8.86</td>\n",
       "      <td>7</td>\n",
       "      <td>1.78</td>\n",
       "      <td>2</td>\n",
       "      <td>False</td>\n",
       "    </tr>\n",
       "    <tr>\n",
       "      <th>4</th>\n",
       "      <td>75</td>\n",
       "      <td>415</td>\n",
       "      <td>yes</td>\n",
       "      <td>no</td>\n",
       "      <td>0</td>\n",
       "      <td>113</td>\n",
       "      <td>28.34</td>\n",
       "      <td>148.3</td>\n",
       "      <td>122</td>\n",
       "      <td>12.61</td>\n",
       "      <td>121</td>\n",
       "      <td>8.41</td>\n",
       "      <td>3</td>\n",
       "      <td>2.73</td>\n",
       "      <td>3</td>\n",
       "      <td>False</td>\n",
       "    </tr>\n",
       "  </tbody>\n",
       "</table>\n",
       "</div>"
      ],
      "text/plain": [
       "   account length  area code international plan voice mail plan  \\\n",
       "0             128        415                 no             yes   \n",
       "1             107        415                 no             yes   \n",
       "2             137        415                 no              no   \n",
       "3              84        408                yes              no   \n",
       "4              75        415                yes              no   \n",
       "\n",
       "   number vmail messages  total day calls  total day charge  \\\n",
       "0                     25              110             45.07   \n",
       "1                     26              123             27.47   \n",
       "2                      0              114             41.38   \n",
       "3                      0               71             50.90   \n",
       "4                      0              113             28.34   \n",
       "\n",
       "   total eve minutes  total eve calls  total eve charge  total night calls  \\\n",
       "0              197.4               99             16.78                 91   \n",
       "1              195.5              103             16.62                103   \n",
       "2              121.2              110             10.30                104   \n",
       "3               61.9               88              5.26                 89   \n",
       "4              148.3              122             12.61                121   \n",
       "\n",
       "   total night charge  total intl calls  total intl charge  \\\n",
       "0               11.01                 3               2.70   \n",
       "1               11.45                 3               3.70   \n",
       "2                7.32                 5               3.29   \n",
       "3                8.86                 7               1.78   \n",
       "4                8.41                 3               2.73   \n",
       "\n",
       "   customer service calls  churn  \n",
       "0                       1  False  \n",
       "1                       1  False  \n",
       "2                       0  False  \n",
       "3                       2  False  \n",
       "4                       3  False  "
      ]
     },
     "execution_count": 5,
     "metadata": {},
     "output_type": "execute_result"
    }
   ],
   "source": [
    "# Drop the unique columns and one of each high correlated columns\n",
    "to_drop = ['state', 'phone number', 'total day minutes', 'total night minutes', 'total night minutes' , 'total intl minutes']\n",
    "df_polished = df.drop(to_drop, axis = 1)\n",
    "df_polished.head()"
   ]
  },
  {
   "cell_type": "code",
   "execution_count": 6,
   "id": "088f3872",
   "metadata": {
    "scrolled": false
   },
   "outputs": [
    {
     "data": {
      "text/html": [
       "<div>\n",
       "<style scoped>\n",
       "    .dataframe tbody tr th:only-of-type {\n",
       "        vertical-align: middle;\n",
       "    }\n",
       "\n",
       "    .dataframe tbody tr th {\n",
       "        vertical-align: top;\n",
       "    }\n",
       "\n",
       "    .dataframe thead th {\n",
       "        text-align: right;\n",
       "    }\n",
       "</style>\n",
       "<table border=\"1\" class=\"dataframe\">\n",
       "  <thead>\n",
       "    <tr style=\"text-align: right;\">\n",
       "      <th></th>\n",
       "      <th>international plan_yes</th>\n",
       "      <th>voice mail plan_yes</th>\n",
       "    </tr>\n",
       "  </thead>\n",
       "  <tbody>\n",
       "    <tr>\n",
       "      <th>0</th>\n",
       "      <td>0</td>\n",
       "      <td>1</td>\n",
       "    </tr>\n",
       "    <tr>\n",
       "      <th>1</th>\n",
       "      <td>0</td>\n",
       "      <td>1</td>\n",
       "    </tr>\n",
       "    <tr>\n",
       "      <th>2</th>\n",
       "      <td>0</td>\n",
       "      <td>0</td>\n",
       "    </tr>\n",
       "    <tr>\n",
       "      <th>3</th>\n",
       "      <td>1</td>\n",
       "      <td>0</td>\n",
       "    </tr>\n",
       "    <tr>\n",
       "      <th>4</th>\n",
       "      <td>1</td>\n",
       "      <td>0</td>\n",
       "    </tr>\n",
       "  </tbody>\n",
       "</table>\n",
       "</div>"
      ],
      "text/plain": [
       "   international plan_yes  voice mail plan_yes\n",
       "0                       0                    1\n",
       "1                       0                    1\n",
       "2                       0                    0\n",
       "3                       1                    0\n",
       "4                       1                    0"
      ]
     },
     "execution_count": 6,
     "metadata": {},
     "output_type": "execute_result"
    }
   ],
   "source": [
    "# The object features need to be catlized\n",
    "to_cat_1 = [ 'international plan', 'voice mail plan' ]\n",
    "df_cat = pd.DataFrame()\n",
    "for col in to_cat_1:\n",
    "    df_cat = pd.concat([df_cat, pd.get_dummies(df_polished[col], prefix=col, drop_first=True)], axis = 1)\n",
    "df_cat.head()"
   ]
  },
  {
   "cell_type": "code",
   "execution_count": 7,
   "id": "75476fce",
   "metadata": {},
   "outputs": [
    {
     "data": {
      "text/html": [
       "<div>\n",
       "<style scoped>\n",
       "    .dataframe tbody tr th:only-of-type {\n",
       "        vertical-align: middle;\n",
       "    }\n",
       "\n",
       "    .dataframe tbody tr th {\n",
       "        vertical-align: top;\n",
       "    }\n",
       "\n",
       "    .dataframe thead th {\n",
       "        text-align: right;\n",
       "    }\n",
       "</style>\n",
       "<table border=\"1\" class=\"dataframe\">\n",
       "  <thead>\n",
       "    <tr style=\"text-align: right;\">\n",
       "      <th></th>\n",
       "      <th>area code_408</th>\n",
       "      <th>area code_415</th>\n",
       "      <th>area code_510</th>\n",
       "    </tr>\n",
       "  </thead>\n",
       "  <tbody>\n",
       "    <tr>\n",
       "      <th>0</th>\n",
       "      <td>0</td>\n",
       "      <td>1</td>\n",
       "      <td>0</td>\n",
       "    </tr>\n",
       "    <tr>\n",
       "      <th>1</th>\n",
       "      <td>0</td>\n",
       "      <td>1</td>\n",
       "      <td>0</td>\n",
       "    </tr>\n",
       "    <tr>\n",
       "      <th>2</th>\n",
       "      <td>0</td>\n",
       "      <td>1</td>\n",
       "      <td>0</td>\n",
       "    </tr>\n",
       "    <tr>\n",
       "      <th>3</th>\n",
       "      <td>1</td>\n",
       "      <td>0</td>\n",
       "      <td>0</td>\n",
       "    </tr>\n",
       "    <tr>\n",
       "      <th>4</th>\n",
       "      <td>0</td>\n",
       "      <td>1</td>\n",
       "      <td>0</td>\n",
       "    </tr>\n",
       "  </tbody>\n",
       "</table>\n",
       "</div>"
      ],
      "text/plain": [
       "   area code_408  area code_415  area code_510\n",
       "0              0              1              0\n",
       "1              0              1              0\n",
       "2              0              1              0\n",
       "3              1              0              0\n",
       "4              0              1              0"
      ]
     },
     "execution_count": 7,
     "metadata": {},
     "output_type": "execute_result"
    }
   ],
   "source": [
    "to_cat_2 = [  'area code' ]\n",
    "df_cat2 = pd.DataFrame()\n",
    "for col in to_cat_2:\n",
    "    df_cat2 = pd.concat([df_cat2, pd.get_dummies(df_polished[col], prefix=col, drop_first=False)], axis = 1)\n",
    "df_cat2.head()"
   ]
  },
  {
   "cell_type": "code",
   "execution_count": 8,
   "id": "ec79a4e8",
   "metadata": {},
   "outputs": [],
   "source": [
    "df_polished_2 = pd.concat([df_polished, df_cat, df_cat2], axis = 1)"
   ]
  },
  {
   "cell_type": "code",
   "execution_count": 9,
   "id": "eb97d02f",
   "metadata": {},
   "outputs": [
    {
     "data": {
      "text/plain": [
       "Index(['account length', 'number vmail messages', 'total day calls',\n",
       "       'total day charge', 'total eve minutes', 'total eve calls',\n",
       "       'total eve charge', 'total night calls', 'total night charge',\n",
       "       'total intl calls', 'total intl charge', 'customer service calls',\n",
       "       'churn', 'international plan_yes', 'voice mail plan_yes',\n",
       "       'area code_408', 'area code_415', 'area code_510'],\n",
       "      dtype='object')"
      ]
     },
     "execution_count": 9,
     "metadata": {},
     "output_type": "execute_result"
    }
   ],
   "source": [
    "to_drop_2 = ['international plan', 'voice mail plan' , 'area code'  ]\n",
    "df_polished_3 = df_polished_2.drop(to_drop_2, axis=1)\n",
    "df_polished_3.columns\n"
   ]
  },
  {
   "cell_type": "code",
   "execution_count": 10,
   "id": "4d62cc06",
   "metadata": {
    "scrolled": false
   },
   "outputs": [
    {
     "data": {
      "image/png": "[encoded data removed]",
      "text/plain": [
       "<Figure size 1080x1080 with 11 Axes>"
      ]
     },
     "metadata": {
      "needs_background": "light"
     },
     "output_type": "display_data"
    }
   ],
   "source": [
    "to_plot= ['account length',  'number vmail messages', 'total day calls', 'total day charge',\n",
    "       'total eve minutes', 'total eve calls', 'total eve charge',\n",
    "       'total night calls', 'total night charge', 'total intl calls',\n",
    "       'total intl charge']\n",
    "fig, axes = plt.subplots(figsize = (15,15))\n",
    "fig.suptitle('boxplot for continues features')\n",
    "for idx, col in enumerate(to_plot):\n",
    "    \n",
    "    plt.subplot(4,3,idx+1)\n",
    "    \n",
    "    df_polished_3.boxplot(col)"
   ]
  },
  {
   "cell_type": "code",
   "execution_count": 11,
   "id": "008587c0",
   "metadata": {},
   "outputs": [],
   "source": [
    "#It looks like most of the frames contain outlier values which may impact our fitting and predicting to the final results. We will try to remove the ouliers.\n",
    "\n",
    "df_polished_4 = df_polished_3.copy()\n",
    "for col in to_plot:\n",
    "    Q1 = df_polished_3[col].quantile(0.25)\n",
    "    Q3 = df_polished_3[col].quantile(0.75)\n",
    "    IQR = Q3 - Q1\n",
    "    df_polished_4 = df_polished_4[(df_polished_3[col] >= Q1 - 1.5*IQR) & (df_polished_3[col] <= Q3 + 1.5*IQR)]\n"
   ]
  },
  {
   "cell_type": "code",
   "execution_count": 12,
   "id": "aaf0ed44",
   "metadata": {},
   "outputs": [
    {
     "data": {
      "image/png": "[encoded data removed]",
      "text/plain": [
       "<Figure size 1080x1080 with 11 Axes>"
      ]
     },
     "metadata": {
      "needs_background": "light"
     },
     "output_type": "display_data"
    }
   ],
   "source": [
    "\n",
    "fig, axes = plt.subplots(figsize = (15,15))\n",
    "fig.suptitle('boxplot for continues features')\n",
    "for idx, col in enumerate(to_plot):\n",
    "    \n",
    "    plt.subplot(4,3,idx+1)\n",
    "    \n",
    "    df_polished_4.boxplot(col)"
   ]
  },
  {
   "cell_type": "markdown",
   "id": "e76d1e38",
   "metadata": {},
   "source": [
    "# Now the data was ready and we need to prepare and modeling the data with varies models."
   ]
  },
  {
   "cell_type": "markdown",
   "id": "0120bbb2",
   "metadata": {},
   "source": [
    "### Plan\n",
    "\n",
    "#### 1. Perform a Train-Test Split\n",
    "\n",
    "For a complete end-to-end ML process, we need to create a holdout set that we will use at the very end to evaluate our final model's performance.\n",
    "\n",
    "#### 2. Build and Evaluate several Model including Logistic Regression, k-Nearest Neighbors, Decision Trees, Randdom forest, Support Vector Machine.\n",
    "##### For each of the model, we need several steps\n",
    "    1. Build and Evaluate a base model\n",
    "    2. Build and Evaluate Additional Logistic Regression Models\n",
    "    3. Choose and Evaluate a Final Model\n",
    "#### 3. Compare all the models and find the best model\n",
    "\n"
   ]
  },
  {
   "cell_type": "markdown",
   "id": "be1cdf9a",
   "metadata": {},
   "source": [
    "### 1.  Prepare the Data for Modeling\n",
    "The target is Cover_Type. In the cell below, split df into X and y, then perform a train-test split with random_state=42 and stratify=y to create variables with the standard X_train, X_test, y_train, y_test names."
   ]
  },
  {
   "cell_type": "code",
   "execution_count": 13,
   "id": "91a34a84",
   "metadata": {
    "scrolled": true
   },
   "outputs": [],
   "source": [
    "y = df_polished_4['churn'] * 1   #extract target and convert from boolen to int type\n",
    "X = df_polished_4.drop('churn', axis= 1)\n",
    "X_train, X_test, y_train, y_test = train_test_split(X, y, random_state=42)"
   ]
  },
  {
   "cell_type": "markdown",
   "id": "abe0077c",
   "metadata": {},
   "source": [
    "Since the X features are in different scales, we need to make them to same scale.\n",
    "Now instantiate a StandardScaler, fit it on X_train, and create new variables X_train_scaled and X_test_scaled containing values transformed with the scaler."
   ]
  },
  {
   "cell_type": "code",
   "execution_count": 14,
   "id": "8252b7f0",
   "metadata": {},
   "outputs": [],
   "source": [
    "\n",
    "scale = StandardScaler()\n",
    "scale.fit(X_train)\n",
    "X_train_scaled = scale.transform(X_train)\n",
    "X_test_scaled = scale.transform(X_test)"
   ]
  },
  {
   "cell_type": "markdown",
   "id": "38f7b314",
   "metadata": {},
   "source": [
    "As the data is inbalanced, I used smote to make the training data balanced before fitting."
   ]
  },
  {
   "cell_type": "code",
   "execution_count": 15,
   "id": "850d440c",
   "metadata": {},
   "outputs": [],
   "source": [
    "smote = SMOTE()\n",
    "X_train, y_train = smote.fit_resample(X_train_scaled, y_train) "
   ]
  },
  {
   "cell_type": "markdown",
   "id": "6e7f4882",
   "metadata": {},
   "source": [
    "### 2. Build and Evaluate several Model"
   ]
  },
  {
   "cell_type": "markdown",
   "id": "23ef7e11",
   "metadata": {},
   "source": [
    "######  I. Build the model with Logistic Regression"
   ]
  },
  {
   "cell_type": "code",
   "execution_count": 16,
   "id": "d6496e1d",
   "metadata": {
    "scrolled": false
   },
   "outputs": [],
   "source": [
    "# Instantiate a LogisticRegression with random_state=42\n",
    "Log = LogisticRegression(random_state=42)\n",
    "a = Log.fit(X_train, y_train)\n"
   ]
  },
  {
   "cell_type": "code",
   "execution_count": 17,
   "id": "83246b22",
   "metadata": {},
   "outputs": [
    {
     "name": "stdout",
     "output_type": "stream",
     "text": [
      "accuracy_score is  0.76832\n",
      "f1_score is  0.5124\n",
      "recall_score 0.82301\n",
      "precision_score 0.372\n"
     ]
    },
    {
     "data": {
      "image/png": "[encoded data removed]",
      "text/plain": [
       "<Figure size 432x288 with 2 Axes>"
      ]
     },
     "metadata": {
      "needs_background": "light"
     },
     "output_type": "display_data"
    }
   ],
   "source": [
    "# Make a method to plot the confusion box and the accuracy, recall, precision and F1 score.\n",
    "def plot_confusion(model, X_test_scaled, y_test):   \n",
    "    y_hat_test = model.predict(X_test_scaled)\n",
    "    \n",
    "    print('accuracy_score is ', round(accuracy_score( y_test, y_hat_test), 5))\n",
    "    print('f1_score is ', round(f1_score( y_test, y_hat_test), 5))\n",
    "    print('recall_score', round(recall_score( y_test, y_hat_test), 5))\n",
    "    print('precision_score', round(precision_score( y_test, y_hat_test), 5))\n",
    "\n",
    "\n",
    "    cf_matrix  = confusion_matrix(y_test,y_hat_test)\n",
    "\n",
    "    # make the plot of cufusion matrix \n",
    "    ax = sns.heatmap(cf_matrix, annot=True, cmap='Blues')\n",
    "\n",
    "    ax.set_title('Seaborn Confusion Matrix with labels\\n\\n');\n",
    "    ax.set_xlabel('\\nPredicted Values')\n",
    "    ax.set_ylabel('Actual Values ');\n",
    "\n",
    "    ## Ticket labels - List must be in alphabetical order\n",
    "    ax.xaxis.set_ticklabels(['False','True'])\n",
    "    ax.yaxis.set_ticklabels(['False','True'])\n",
    "\n",
    "    ## Display the visualization of the Confusion Matrix.\n",
    "    plt.show()\n",
    "    \n",
    "plot_confusion(Log, X_test_scaled, y_test)  "
   ]
  },
  {
   "cell_type": "markdown",
   "id": "ff64897e",
   "metadata": {},
   "source": [
    "The confusion box shows massive TN data compared to the TP, FP, and FN. In this project,  the main focus of our fitting is on TP, which is the customers who will churn the plan. In this case, the accuracy, including the TN data, is not work in our project. However, the f1 score, which combines both recall and precision data, looks well working for our fitting. \n",
    "The confusion box for  Logistic Regression fitting shows there is too much FP, and the F1 score is not high enough. Thus the Logistic Regression is not working well for these data. "
   ]
  },
  {
   "cell_type": "markdown",
   "id": "c00b96ed",
   "metadata": {},
   "source": [
    "######  II. Build the model with  k-Nearest Neighbors"
   ]
  },
  {
   "cell_type": "code",
   "execution_count": 18,
   "id": "47c92e02",
   "metadata": {
    "scrolled": false
   },
   "outputs": [
    {
     "name": "stdout",
     "output_type": "stream",
     "text": [
      "accuracy_score is  0.79058\n",
      "f1_score is  0.49367\n",
      "recall_score 0.69027\n",
      "precision_score 0.38424\n"
     ]
    },
    {
     "data": {
      "image/png": "[encoded data removed]",
      "text/plain": [
       "<Figure size 432x288 with 2 Axes>"
      ]
     },
     "metadata": {
      "needs_background": "light"
     },
     "output_type": "display_data"
    }
   ],
   "source": [
    "# For k-Nearest Neighbors, I first build the base line model\n",
    "knn_base = KNeighborsClassifier()\n",
    "knn_base.fit(X_train, y_train)\n",
    "plot_confusion(knn_base, X_test_scaled, y_test)  "
   ]
  },
  {
   "cell_type": "markdown",
   "id": "91d1b6dd",
   "metadata": {},
   "source": [
    "The scores for KNeighborsClassifier are pretty high. But the score for traing is higher than testing data. We will try to use other parameter to find the best number of neighbor used for fitting."
   ]
  },
  {
   "cell_type": "code",
   "execution_count": 19,
   "id": "288071d2",
   "metadata": {},
   "outputs": [],
   "source": [
    "#set the list of n_neighbors we will try\n",
    "knn_param_grid = {\n",
    "    'n_neighbors' : [1,3,5,6,7,8,9, 10]\n",
    "}\n",
    "knn_param_grid =  GridSearchCV(knn_base, knn_param_grid, cv=3, return_train_score=True)"
   ]
  },
  {
   "cell_type": "code",
   "execution_count": 20,
   "id": "a8017c35",
   "metadata": {},
   "outputs": [
    {
     "data": {
      "text/plain": [
       "KNeighborsClassifier(n_neighbors=1)"
      ]
     },
     "execution_count": 20,
     "metadata": {},
     "output_type": "execute_result"
    }
   ],
   "source": [
    "#fit the model to data\n",
    "knn_param_grid.fit(X_train, y_train)\n",
    "# find the best parameter\n",
    "knn_param_grid.best_estimator_"
   ]
  },
  {
   "cell_type": "code",
   "execution_count": 21,
   "id": "66261ac1",
   "metadata": {
    "scrolled": false
   },
   "outputs": [
    {
     "name": "stdout",
     "output_type": "stream",
     "text": [
      "accuracy_score is  0.82068\n",
      "f1_score is  0.45418\n",
      "recall_score 0.50442\n",
      "precision_score 0.41304\n"
     ]
    },
    {
     "data": {
      "image/png": "[encoded data removed]",
      "text/plain": [
       "<Figure size 432x288 with 2 Axes>"
      ]
     },
     "metadata": {
      "needs_background": "light"
     },
     "output_type": "display_data"
    }
   ],
   "source": [
    "# fit the data with best estimator\n",
    "knn_base_best = KNeighborsClassifier(n_neighbors=1)\n",
    "knn_base_best.fit(X_train, y_train)\n",
    "\n",
    "plot_confusion(knn_base_best, X_test_scaled, y_test)  "
   ]
  },
  {
   "cell_type": "markdown",
   "id": "9eeaed4b",
   "metadata": {},
   "source": [
    "For data fit to model with k-Nearest Neighbors, the f1 score is still low because there is a lot of FP data. "
   ]
  },
  {
   "cell_type": "markdown",
   "id": "7000a112",
   "metadata": {},
   "source": [
    "######  III. Build the model with Decision Trees"
   ]
  },
  {
   "cell_type": "code",
   "execution_count": 24,
   "id": "2c74cb29",
   "metadata": {
    "scrolled": false
   },
   "outputs": [
    {
     "name": "stdout",
     "output_type": "stream",
     "text": [
      "accuracy_score is  0.87696\n",
      "f1_score is  0.624\n",
      "recall_score 0.69027\n",
      "precision_score 0.56934\n"
     ]
    },
    {
     "data": {
      "image/png": "[encoded data removed]",
      "text/plain": [
       "<Figure size 432x288 with 2 Axes>"
      ]
     },
     "metadata": {
      "needs_background": "light"
     },
     "output_type": "display_data"
    }
   ],
   "source": [
    "# set the baseline model for DecisionTreeClassifier\n",
    "DT_baseline = DecisionTreeClassifier(random_state=42)\n",
    "DT_baseline.fit(X_train, y_train)\n",
    "\n",
    "plot_confusion(DT_baseline, X_test_scaled, y_test)  "
   ]
  },
  {
   "cell_type": "markdown",
   "id": "a286af8c",
   "metadata": {},
   "source": [
    "The f1 score for DT is not high also."
   ]
  },
  {
   "cell_type": "code",
   "execution_count": 25,
   "id": "abbd7df3",
   "metadata": {
    "scrolled": false
   },
   "outputs": [
    {
     "data": {
      "text/plain": [
       "{'criterion': 'entropy',\n",
       " 'max_depth': 10,\n",
       " 'min_samples_leaf': 1,\n",
       " 'min_samples_split': 2}"
      ]
     },
     "execution_count": 25,
     "metadata": {},
     "output_type": "execute_result"
    }
   ],
   "source": [
    "#set the list of parameters we will try\n",
    "\n",
    "dt_param_grid = {\n",
    "    'criterion': ['gini', 'entropy'],\n",
    "    'max_depth': [2, 3, 4, 5 , 10],\n",
    "    'min_samples_split': [2, 5, 10],\n",
    "    'min_samples_leaf' : [1, 2, 3, 4, 5, 6]\n",
    "}\n",
    "dt_grid_search =  GridSearchCV(DT_baseline, dt_param_grid, cv=3, return_train_score=True)\n",
    "\n",
    "# Fit to the data\n",
    "dt_grid_search.fit(X_train, y_train)\n",
    "# find best parameters\n",
    "dt_grid_search.best_params_"
   ]
  },
  {
   "cell_type": "code",
   "execution_count": 26,
   "id": "8f6a976a",
   "metadata": {
    "scrolled": false
   },
   "outputs": [
    {
     "name": "stdout",
     "output_type": "stream",
     "text": [
      "accuracy_score is  0.9123\n",
      "f1_score is  0.70996\n",
      "recall_score 0.72566\n",
      "precision_score 0.69492\n"
     ]
    },
    {
     "data": {
      "image/png": "[encoded data removed]",
      "text/plain": [
       "<Figure size 432x288 with 2 Axes>"
      ]
     },
     "metadata": {
      "needs_background": "light"
     },
     "output_type": "display_data"
    }
   ],
   "source": [
    "# refit the model to data with best parameters\n",
    "DT_baseline_best = DecisionTreeClassifier(random_state=42, criterion='entropy', max_depth=10,\n",
    "                                          min_samples_leaf=1, min_samples_split=2)\n",
    "DT_baseline_best.fit(X_train, y_train)\n",
    "plot_confusion(DT_baseline_best, X_test_scaled, y_test)  "
   ]
  },
  {
   "cell_type": "markdown",
   "id": "fe656f4a",
   "metadata": {},
   "source": [
    "Compare to the first to model, Decision Tree gives us better f1 score. However, it is still not high enough since FP and FN are still high compare to TP. "
   ]
  },
  {
   "cell_type": "markdown",
   "id": "d1deff83",
   "metadata": {},
   "source": [
    "######  IV. Build the model with  Support Vector Machine"
   ]
  },
  {
   "cell_type": "code",
   "execution_count": 27,
   "id": "c4f58e8b",
   "metadata": {
    "scrolled": false
   },
   "outputs": [
    {
     "name": "stdout",
     "output_type": "stream",
     "text": [
      "accuracy_score is  0.87696\n",
      "f1_score is  0.63281\n",
      "recall_score 0.71681\n",
      "precision_score 0.56643\n"
     ]
    },
    {
     "data": {
      "image/png": "[encoded data removed]",
      "text/plain": [
       "<Figure size 432x288 with 2 Axes>"
      ]
     },
     "metadata": {
      "needs_background": "light"
     },
     "output_type": "display_data"
    }
   ],
   "source": [
    "# set the baseline model for Support Vector Machine\n",
    "svm_baseline = SVC()\n",
    "svm_baseline.fit(X_train, y_train)\n",
    "\n",
    "\n",
    "plot_confusion(svm_baseline, X_test_scaled, y_test)  "
   ]
  },
  {
   "cell_type": "code",
   "execution_count": 28,
   "id": "ccd68140",
   "metadata": {},
   "outputs": [
    {
     "data": {
      "text/plain": [
       "{'C': 10, 'gamma': 0.1, 'kernel': 'rbf'}"
      ]
     },
     "execution_count": 28,
     "metadata": {},
     "output_type": "execute_result"
    }
   ],
   "source": [
    "#set the list of parameters we will try\n",
    "\n",
    "svm_param_grid = {\n",
    "    'C' :[0.1, 1, 5, 10, 100],\n",
    "    'kernel': ['poly', 'rbf'],\n",
    "    'gamma': [0.1, 1, 10, 'auto'],\n",
    "    \n",
    "\n",
    "}\n",
    "svm_grid_search =  GridSearchCV(svm_baseline, svm_param_grid, cv=3, return_train_score=True)\n",
    "\n",
    "svm_grid_search.fit( X_train, y_train)\n",
    "\n",
    "svm_grid_search.best_params_"
   ]
  },
  {
   "cell_type": "code",
   "execution_count": 29,
   "id": "ae8bd3a9",
   "metadata": {
    "scrolled": false
   },
   "outputs": [
    {
     "name": "stdout",
     "output_type": "stream",
     "text": [
      "accuracy_score is  0.86911\n",
      "f1_score is  0.53271\n",
      "recall_score 0.50442\n",
      "precision_score 0.56436\n"
     ]
    },
    {
     "data": {
      "image/png": "[encoded data removed]",
      "text/plain": [
       "<Figure size 432x288 with 2 Axes>"
      ]
     },
     "metadata": {
      "needs_background": "light"
     },
     "output_type": "display_data"
    }
   ],
   "source": [
    "# refit the model to data with best parameters\n",
    "\n",
    "svm_baseline_best = SVC(C= 10, gamma= 0.1, kernel= 'rbf')\n",
    "svm_baseline_best.fit(X_train, y_train)\n",
    "\n",
    "plot_confusion(svm_baseline_best, X_test_scaled, y_test)  "
   ]
  },
  {
   "cell_type": "markdown",
   "id": "b7655f50",
   "metadata": {},
   "source": [
    "The results for SVM model does not looks good as the f1 score is very low."
   ]
  },
  {
   "cell_type": "markdown",
   "id": "a5cba33f",
   "metadata": {},
   "source": [
    "######  V. Build the model with RandomForestClassifier"
   ]
  },
  {
   "cell_type": "code",
   "execution_count": 30,
   "id": "df89db21",
   "metadata": {},
   "outputs": [
    {
     "name": "stdout",
     "output_type": "stream",
     "text": [
      "accuracy_score is  0.94241\n",
      "f1_score is  0.80531\n",
      "recall_score 0.80531\n",
      "precision_score 0.80531\n"
     ]
    },
    {
     "data": {
      "image/png": "[encoded data removed]",
      "text/plain": [
       "<Figure size 432x288 with 2 Axes>"
      ]
     },
     "metadata": {
      "needs_background": "light"
     },
     "output_type": "display_data"
    }
   ],
   "source": [
    "rf_clf = RandomForestClassifier()\n",
    "rf_clf.fit(X_train, y_train)\n",
    "\n",
    "plot_confusion(rf_clf, X_test_scaled, y_test)  "
   ]
  },
  {
   "cell_type": "code",
   "execution_count": 31,
   "id": "06297849",
   "metadata": {},
   "outputs": [
    {
     "name": "stdout",
     "output_type": "stream",
     "text": [
      "\n",
      "Optimal Parameters: {'criterion': 'entropy', 'max_depth': None, 'min_samples_leaf': 3, 'min_samples_split': 5, 'n_estimators': 100}\n"
     ]
    }
   ],
   "source": [
    "rf_param_grid = {\n",
    "    'n_estimators' : [10, 30, 100],\n",
    "    'criterion' : ['gini', 'entropy'],\n",
    "    'max_depth' : [None, 2, 6, 10],\n",
    "    'min_samples_split' : [5, 10],\n",
    "    'min_samples_leaf' : [3, 6],\n",
    "    \n",
    "}\n",
    "rf_grid_search = GridSearchCV(rf_clf, rf_param_grid, cv =3)\n",
    "\n",
    "rf_grid_search.fit(X_train, y_train)\n",
    "print(\"\")\n",
    "print(f\"Optimal Parameters: {rf_grid_search.best_params_}\")"
   ]
  },
  {
   "cell_type": "code",
   "execution_count": 34,
   "id": "e060d0ac",
   "metadata": {
    "scrolled": false
   },
   "outputs": [
    {
     "name": "stdout",
     "output_type": "stream",
     "text": [
      "accuracy_score is  0.94895\n",
      "f1_score is  0.83117\n",
      "recall_score 0.84956\n",
      "precision_score 0.81356\n"
     ]
    },
    {
     "data": {
      "image/png": "[encoded data removed]",
      "text/plain": [
       "<Figure size 432x288 with 2 Axes>"
      ]
     },
     "metadata": {
      "needs_background": "light"
     },
     "output_type": "display_data"
    }
   ],
   "source": [
    "rf_clf_best = RandomForestClassifier(criterion='entropy', max_depth=None, min_samples_leaf=3, min_samples_split=5, n_estimators = 100)\n",
    "rf_clf_best.fit(X_train, y_train)\n",
    "\n",
    "plot_confusion(rf_clf_best, X_test_scaled, y_test)  "
   ]
  },
  {
   "cell_type": "markdown",
   "id": "9b918e29",
   "metadata": {},
   "source": [
    "Compare to other four models, the model of Random Forest gives us best results on the f1 scores. The TP in confusion matrix incresed and the FP, FN decresed. Thus we selected random Forest for our final model."
   ]
  },
  {
   "cell_type": "markdown",
   "id": "b1f0c384",
   "metadata": {},
   "source": [
    " #### Compare all the models and find the best model, then evaluate it."
   ]
  },
  {
   "cell_type": "markdown",
   "id": "3b435ac5",
   "metadata": {},
   "source": [
    " The final score for training and testing data are very high and close to each other which suggest there is no overfit or downfit to the trainning data. Now let find out the weight of each features to the target results. "
   ]
  },
  {
   "cell_type": "code",
   "execution_count": 36,
   "id": "d41423ec",
   "metadata": {
    "scrolled": false
   },
   "outputs": [
    {
     "data": {
      "image/png": "[encoded data removed]",
      "text/plain": [
       "<Figure size 1080x360 with 1 Axes>"
      ]
     },
     "metadata": {
      "needs_background": "light"
     },
     "output_type": "display_data"
    },
    {
     "name": "stdout",
     "output_type": "stream",
     "text": [
      "total day charge 0.21184308289677392\n",
      "customer service calls 0.16868781183541365\n",
      "total intl calls 0.08463497091973587\n",
      "international plan_yes 0.0781320767218108\n",
      "total eve minutes 0.06242784467555647\n"
     ]
    }
   ],
   "source": [
    "importance_DT = rf_clf_best.feature_importances_\n",
    "col = []\n",
    "val = []\n",
    "combine = []\n",
    "# summarize feature importance\n",
    "for i,v in zip(X.columns, importance_DT):\n",
    "    \n",
    "    combine.append((i, v))\n",
    "# plot feature importance\n",
    "plt.figure(figsize = (15, 5))\n",
    "\n",
    "sort_features =sorted(combine, key = lambda x:x[1])\n",
    "\n",
    "col = [feat[0] for feat in sort_features]\n",
    "val = [feat[1] for feat in sort_features]\n",
    "\n",
    "\n",
    "\n",
    "plt.barh(col, val,  align='center')\n",
    "plt.xlabel('Feature importance')\n",
    "plt.ylabel('The features')\n",
    "\n",
    "\n",
    "plt.show()\n",
    "for i in range (16 , 11, -1):\n",
    "    \n",
    "    print(col[i], val[i])"
   ]
  },
  {
   "cell_type": "markdown",
   "id": "8efe47e1",
   "metadata": {},
   "source": [
    "The top 5 features are total day charge, customer service calls,  international plan_yes, total intl calls, total eve minutes."
   ]
  },
  {
   "cell_type": "markdown",
   "id": "3c1841f5",
   "metadata": {},
   "source": [
    "### Check if there is special patten for the top five important features"
   ]
  },
  {
   "cell_type": "code",
   "execution_count": 351,
   "id": "bcf5f32b",
   "metadata": {
    "scrolled": false
   },
   "outputs": [
    {
     "data": {
      "image/png": "[encoded data removed]",
      "text/plain": [
       "<Figure size 1080x432 with 2 Axes>"
      ]
     },
     "metadata": {
      "needs_background": "light"
     },
     "output_type": "display_data"
    }
   ],
   "source": [
    "# Plot the histogram for total day charge of customers who churned and not churned.\n",
    "plt.figure(figsize=(15,6))\n",
    "plt.subplot(1,2,1)\n",
    "plt.hist(df_polished_4[df_polished_4['churn'] == 1]['total day charge'], density=True)\n",
    "plt.xlabel('Total day charge')\n",
    "plt.ylabel('Amount')\n",
    "plt.title('Churned')\n",
    "\n",
    "\n",
    "plt.subplot(1,2,2)\n",
    "plt.hist(df_polished_4[df_polished_4['churn'] == 0]['total day charge'], density=True)\n",
    "plt.xlabel('Total day charge')\n",
    "plt.ylabel('Amount')\n",
    "plt.title('Not churned')\n",
    "plt.show()"
   ]
  },
  {
   "cell_type": "markdown",
   "id": "ff3d9ccf",
   "metadata": {},
   "source": [
    "The histograms for customers who churned and not churned show that the total day chare have a lot of overlap with each other.The customers who had total day charg more than 40 have more chance to churn the plan. "
   ]
  },
  {
   "cell_type": "code",
   "execution_count": 352,
   "id": "84fba2a9",
   "metadata": {
    "scrolled": false
   },
   "outputs": [
    {
     "data": {
      "image/png": "[encoded data removed]",
      "text/plain": [
       "<Figure size 1080x432 with 2 Axes>"
      ]
     },
     "metadata": {
      "needs_background": "light"
     },
     "output_type": "display_data"
    }
   ],
   "source": [
    "# Plot the histogram for 'customer service calls' of customers who churned and not churned.\n",
    "\n",
    "plt.figure(figsize=(15,6))\n",
    "plt.subplot(1,2,1)\n",
    "plt.hist(df_polished_4[df_polished_4['churn'] == 1]['customer service calls'],  density=True)\n",
    "plt.xlabel('customer service calls')\n",
    "\n",
    "plt.ylabel('Amount')\n",
    "plt.title('Churned')\n",
    "plt.subplot(1,2,2)\n",
    "plt.hist(df_polished_4[df_polished_4['churn'] == 0]['customer service calls'],  density=True)\n",
    "plt.xlabel('customer service calls')\n",
    "plt.ylabel('Amount')\n",
    "plt.title('Not churned')\n",
    "plt.show()"
   ]
  },
  {
   "cell_type": "markdown",
   "id": "84b62bb0",
   "metadata": {},
   "source": [
    "The histogram are similar to each other. However, the customer who had 4 international calls had  higher chance to churn the plan. "
   ]
  },
  {
   "cell_type": "code",
   "execution_count": 119,
   "id": "1b9ad0c6",
   "metadata": {
    "scrolled": true
   },
   "outputs": [
    {
     "name": "stdout",
     "output_type": "stream",
     "text": [
      "     not churn     churn\n",
      " No   0.721198  0.278802\n",
      "Yes   0.933944  0.066056\n"
     ]
    },
    {
     "data": {
      "image/png": "[encoded data removed]",
      "text/plain": [
       "<Figure size 432x288 with 1 Axes>"
      ]
     },
     "metadata": {
      "needs_background": "light"
     },
     "output_type": "display_data"
    }
   ],
   "source": [
    "churn = df_polished_4[df_polished_4['churn'] == 1]['international plan_yes'].value_counts(normalize=True)\n",
    "not_churn = df_polished_4[df_polished_4['churn'] == 0]['international plan_yes'].value_counts(normalize=True)\n",
    "df_churn = pd.DataFrame([ churn, not_churn ], index =[' No', 'Yes'])\n",
    "df_churn.columns = ['not churn', 'churn']\n",
    "print(df_churn)\n",
    "df_churn.plot(kind = 'bar', xlabel = 'international plan', ylabel = 'Normalized amount')\n",
    "plt.show()"
   ]
  },
  {
   "cell_type": "markdown",
   "id": "acdaa271",
   "metadata": {},
   "source": [
    "This data show that the customers who have international plan have 27% chance to churn the service. But the customers who do not have the  international plan have only 6.7% chance to churn the service. "
   ]
  },
  {
   "cell_type": "code",
   "execution_count": 45,
   "id": "71e3df66",
   "metadata": {
    "scrolled": false
   },
   "outputs": [
    {
     "data": {
      "image/png": "[encoded data removed]",
      "text/plain": [
       "<Figure size 1080x432 with 2 Axes>"
      ]
     },
     "metadata": {
      "needs_background": "light"
     },
     "output_type": "display_data"
    }
   ],
   "source": [
    "# Plot the histogram for 'total intl charge' of customers who churned and not churned.\n",
    "\n",
    "plt.figure(figsize=(15,6))\n",
    "plt.subplot(1,2,1)\n",
    "plt.hist(df_polished_4[df_polished_4['churn'] == 1]['total intl charge'], density=True)\n",
    "plt.xlabel('total intl charge')\n",
    "plt.ylabel('Amount')\n",
    "plt.title('Churned')\n",
    "plt.subplot(1,2,2)\n",
    "plt.hist(df_polished_4[df_polished_4['churn'] == 0]['total intl charge'], density=True)\n",
    "plt.xlabel('total intl charge')\n",
    "plt.ylabel('Amount')\n",
    "plt.title('Not churned')\n",
    "plt.show()"
   ]
  },
  {
   "cell_type": "markdown",
   "id": "19540abd",
   "metadata": {},
   "source": [
    "There is no clear relationship between total intl charge and churn or not."
   ]
  },
  {
   "cell_type": "code",
   "execution_count": 50,
   "id": "ac9b9657",
   "metadata": {
    "scrolled": true
   },
   "outputs": [
    {
     "data": {
      "image/png": "[encoded data removed]",
      "text/plain": [
       "<Figure size 1080x432 with 2 Axes>"
      ]
     },
     "metadata": {
      "needs_background": "light"
     },
     "output_type": "display_data"
    }
   ],
   "source": [
    "# Plot the histogram for 'total eve minutes' of customers who churned and not churned.\n",
    "\n",
    "plt.figure(figsize=(15,6))\n",
    "plt.subplot(1,2,1)\n",
    "plt.hist(df_polished_4[df_polished_4['churn'] == 1]['total eve minutes'], density=True)\n",
    "plt.xlabel('total eve minutes')\n",
    "plt.ylabel('Amount')\n",
    "plt.title('Churned')\n",
    "\n",
    "plt.subplot(1,2,2)\n",
    "plt.hist(df_polished_4[df_polished_4['churn'] == 0]['total eve minutes'], density=True)\n",
    "plt.xlabel('total eve minutes')\n",
    "plt.ylabel('Amount')\n",
    "plt.title('Not churned')\n",
    "plt.show()"
   ]
  },
  {
   "cell_type": "markdown",
   "id": "cd235760",
   "metadata": {},
   "source": [
    "\n",
    "There is no clear relationship between total eve minutes and churn or not."
   ]
  },
  {
   "cell_type": "markdown",
   "id": "75e9a676",
   "metadata": {},
   "source": [
    "# Conclusion\n",
    "\n",
    "We polished our original data by removing the outlier and catalyzing the necessary columns. We then tested several models to fit out data and selected the best one, Random Forest. The final score of predicting is 0.83117, which is very high. \n",
    "By plotting the feature importance, we found that the top 5 weighted features are total day charge, customer service calls, international plan_yes, total intl calls, and eve minutes. \n",
    "We then plot the histogram of each feature separated by the customers who churn and not churn the plan. \n",
    "We found that customers who had day charge more than 40 or had customer service call four and more or had an international plan had a higher chance of churning the service.\n",
    "The results of total day charge and customer service calls suggest customers using Syriatel service more often have a higher chance of churning the service. Thus, Syriatel company can promote the service charge to attract people to use more of that. They also need to make the customer service friendlier and more professional to help customers address the problems.\n",
    "The international plan is also crucial for customers to churn the service. Based on this point, Syriatel can also make some memorable plans if more customers use the international program. "
   ]
  }
 ],
 "metadata": {
  "kernelspec": {
   "display_name": "Python 3",
   "language": "python",
   "name": "python3"
  },
  "language_info": {
   "codemirror_mode": {
    "name": "ipython",
    "version": 3
   },
   "file_extension": ".py",
   "mimetype": "text/x-python",
   "name": "python",
   "nbconvert_exporter": "python",
   "pygments_lexer": "ipython3",
   "version": "3.9.5"
  }
 },
 "nbformat": 4,
 "nbformat_minor": 5
}
